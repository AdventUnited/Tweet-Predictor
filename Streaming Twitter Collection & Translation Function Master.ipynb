{
 "cells": [
  {
   "cell_type": "markdown",
   "metadata": {},
   "source": [
    "# Streaming Twitter & Translator"
   ]
  },
  {
   "cell_type": "markdown",
   "metadata": {},
   "source": [
    "## Build Streaming Twitter "
   ]
  },
  {
   "cell_type": "code",
   "execution_count": null,
   "metadata": {},
   "outputs": [],
   "source": [
    "## The following function is used for listening for twitter terms as well as translating text"
   ]
  },
  {
   "cell_type": "code",
   "execution_count": null,
   "metadata": {},
   "outputs": [],
   "source": [
    "## https://pythondata.com/collecting-storing-tweets-with-python-and-mongodb/\n",
    "\n",
    "import pymongo\n",
    "from pymongo import MongoClient\n",
    "import tweepy\n",
    "import json\n",
    "\n",
    "# twitter account keys\n",
    "CONSUMER_KEY = 'ENTER YOUR KEY HERE'\n",
    "CONSUMER_SECRET = 'ENTER YOUR KEY HERE'\n",
    "OAUTH_TOKEN = 'ENTER YOUR KEY HERE'\n",
    "OAUTH_TOKEN_SECRET = 'ENTER YOUR KEY HERE'\n",
    "\n",
    "WORDS = ['Hacking', 'Webshell','F5 Exploit','ZeroDay', '0day', 'WPA3 Exploit', 'router exploit', 'Novidade', 'VPNFilter', 'SMB Exploit', 'cisco exploit','استغلال F5', 'قرصنة الكمبيوتر','قذيفة الويب', 'استغلال سيسكو', 'Компьютерный Эксплоит', 'IoT Exploit']\n",
    "class StreamListener(tweepy.StreamListener):    \n",
    "    #This is a class provided by tweepy to access the Twitter Streaming API. \n",
    "\n",
    "    def on_connect(self):\n",
    "        # Called initially to connect to the Streaming API\n",
    "        print(\"You are now connected to the streaming API.\")\n",
    " \n",
    "    def on_error(self, status_code):\n",
    "        # On error - if an error occurs, display the error / status code\n",
    "        print('An Error has occured: ' + repr(status_code))\n",
    "        return False\n",
    " \n",
    "    def on_data(self, data):\n",
    "        #Connects to your mongoDB and stores the tweet\n",
    "        try:\n",
    "            client = MongoClient()\n",
    "            \n",
    "            # Use twitterdb database. If it doesn't exist, it will be created.\n",
    "            db = client['Hacking_Tweets']\n",
    "    \n",
    "            # Decode the JSON from Twitter\n",
    "            datajson = json.loads(data)\n",
    "            \n",
    "            #grab the 'created_at' data from the Tweet to use for display\n",
    "            created_at = datajson['created_at']\n",
    "\n",
    "            #print out a message to the screen that we have collected a tweet\n",
    "            print(\"Tweet collected at \" + str(created_at))\n",
    "            \n",
    "            #insert the data into the mongoDB into a collection called New_Project\n",
    "            #if twitter_search doesn't exist, it will be created.\n",
    "            db.New_Project.insert_one(datajson)\n",
    "        except Exception as e:\n",
    "           print(e)\n",
    "        \n",
    "auth = tweepy.OAuthHandler(CONSUMER_KEY, CONSUMER_SECRET)\n",
    "auth.set_access_token(OAUTH_TOKEN, OAUTH_TOKEN_SECRET)\n",
    "#Set up the listener. The 'wait_on_rate_limit=True' is needed to help with Twitter API rate limiting.\n",
    "listener = StreamListener(api=tweepy.API(wait_on_rate_limit=True)) \n",
    "streamer = tweepy.Stream(auth=auth, listener=listener)\n",
    "print(\"Tracking: \" + str(WORDS))\n",
    "streamer.filter(track=WORDS)"
   ]
  },
  {
   "cell_type": "markdown",
   "metadata": {},
   "source": [
    "## Build Translation Function"
   ]
  },
  {
   "cell_type": "code",
   "execution_count": null,
   "metadata": {},
   "outputs": [],
   "source": [
    "### Text Translation Function"
   ]
  },
  {
   "cell_type": "code",
   "execution_count": null,
   "metadata": {},
   "outputs": [],
   "source": [
    "# The following code for tranlation was borrowed from: https://github.com/mouuff/mtranslate/blob/master/mtranslate/core.py\n",
    "\n",
    "import sys\n",
    "import re\n",
    "\n",
    "if (sys.version_info[0] < 3):\n",
    "    #pythong 2 syntax\n",
    "    import urllib2\n",
    "    import urllib\n",
    "    import HTMLParser\n",
    "else:\n",
    "    #python 3 syntax\n",
    "    import html.parser\n",
    "    import urllib.request\n",
    "    import urllib.parse\n",
    "\n",
    "#this is the user agent string google will see as it is interpreting the tweets    \n",
    "agent = {'User-Agent':\n",
    "\"Mozilla/4.0 (\\\n",
    "compatible;\\\n",
    "MSIE 6.0;\\\n",
    "Windows NT 5.1;\\\n",
    "SV1;\\\n",
    ".NET CLR 1.1.4322;\\\n",
    ".NET CLR 2.0.50727;\\\n",
    ".NET CLR 3.0.04506.30\\\n",
    ")\"}\n",
    "\n",
    "#these functions are designed to identify if python 2 or python 3 is being used. \n",
    "def unescape(text):\n",
    "    if (sys.version_info[0] < 3):\n",
    "        parser = HTMLParser.HTMLParser() #python 2\n",
    "    else:\n",
    "        parser = html.parser.HTMLParser() #python 3\n",
    "    return (parser.unescape(text))\n",
    "\n",
    "def translate(to_translate, to_language=\"auto\", from_language=\"auto\"):\n",
    "    \"\"\"Returns the translation using google translate\n",
    "    you must shortcut the language you define\n",
    "    (French = fr, English = en, Spanish = es, etc...)\n",
    "    if not defined it will detect it or use english by default\n",
    "    Example:\n",
    "    print(translate(\"salut tu vas bien?\", \"en\"))\n",
    "    hello you alright?\n",
    "    \"\"\"\n",
    "    base_link = \"http://translate.google.com/m?hl=%s&sl=%s&q=%s\"\n",
    "    if (sys.version_info[0] < 3):\n",
    "        to_translate = urllib.quote_plus(to_translate)\n",
    "        link = base_link % (to_language, from_language, to_translate)\n",
    "        request = urllib2.Request(link, headers=agent)\n",
    "        raw_data = urllib2.urlopen(request).read()\n",
    "    else:\n",
    "        to_translate = urllib.parse.quote(to_translate)\n",
    "        link = base_link % (to_language, from_language, to_translate)\n",
    "        request = urllib.request.Request(link, headers=agent)\n",
    "        raw_data = urllib.request.urlopen(request).read()\n",
    "    data = raw_data.decode(\"utf-8\")\n",
    "    expr = r'class=\"t0\">(.*?)<'\n",
    "    re_result = re.findall(expr, data)\n",
    "    if (len(re_result) == 0):\n",
    "        result = \"\"\n",
    "    else:\n",
    "        result = unescape(re_result[0])\n",
    "    return (result)"
   ]
  },
  {
   "cell_type": "code",
   "execution_count": null,
   "metadata": {},
   "outputs": [],
   "source": []
  }
 ],
 "metadata": {
  "kernelspec": {
   "display_name": "Python 3",
   "language": "python",
   "name": "python3"
  },
  "language_info": {
   "codemirror_mode": {
    "name": "ipython",
    "version": 3
   },
   "file_extension": ".py",
   "mimetype": "text/x-python",
   "name": "python",
   "nbconvert_exporter": "python",
   "pygments_lexer": "ipython3",
   "version": "3.7.3"
  }
 },
 "nbformat": 4,
 "nbformat_minor": 2
}
